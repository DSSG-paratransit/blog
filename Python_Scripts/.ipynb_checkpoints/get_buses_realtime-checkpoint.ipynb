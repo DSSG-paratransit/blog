{
 "cells": [
  {
   "cell_type": "code",
   "execution_count": 109,
   "metadata": {
    "collapsed": false
   },
   "outputs": [
    {
     "name": "stdout",
     "output_type": "stream",
     "text": [
      "/Users/fineiskid/Desktop/Access_Analysis_Rproject_local/data\n"
     ]
    }
   ],
   "source": [
    "import numpy as np\n",
    "import pandas as pd\n",
    "\n",
    "#set cd to data folder with QC'ed rides\n",
    "% cd /Users/fineiskid/Desktop/Access_Analysis_Rproject_local/data/\n"
   ]
  },
  {
   "cell_type": "code",
   "execution_count": 110,
   "metadata": {
    "collapsed": false
   },
   "outputs": [],
   "source": [
    "data = pd.read_csv(\"single_clean_day.csv\")"
   ]
  },
  {
   "cell_type": "code",
   "execution_count": 111,
   "metadata": {
    "collapsed": false
   },
   "outputs": [],
   "source": [
    "data[\"ServiceDate\"] = pd.to_datetime(data[\"ServiceDate\"], format ='%Y-%m-%d %H:%M:%S', unit = \"D\")\n"
   ]
  },
  {
   "cell_type": "code",
   "execution_count": 112,
   "metadata": {
    "collapsed": true
   },
   "outputs": [],
   "source": [
    "def add_TimeWindows(data, windowsz):\n",
    "    '''calculate time windows (pickup and dropoff)\n",
    "        from SchTime and ETA.\n",
    "        data is subsetted schedule data from a day.\n",
    "        windowsz is size of pickup/dropoff window in seconds'''\n",
    "\n",
    "    etas = data[\"ETA\"]\n",
    "    schtime =data[\"SchTime\"]\n",
    "    schtime[schtime<0] = np.nan\n",
    "    data[\"PickupStart\"] = 0; data[\"PickupEnd\"] = 0\n",
    "    data[\"DropoffStart\"] = 0; data[\"DropoffEnd\"] = 0\n",
    "    for x in range(0, len(etas)):\n",
    "\n",
    "        #make dropoff window when there's no required drop off time\n",
    "        if (data[\"Activity\"].iloc[x] == 1) & (data[\"ReqLate\"].iloc[x] <0):\n",
    "            data[\"DropoffStart\"].iloc[x] = data[\"ETA\"].iloc[x]-3600\n",
    "            data[\"DropoffEnd\"].iloc[x] = data[\"ETA\"].iloc[x]+3600\n",
    "        \n",
    "        #make dropoff window when there IS a required drop off time: 1hr before ReqLate time\n",
    "        if (data[\"Activity\"].iloc[x] == 1) & (data[\"ReqLate\"].iloc[x] >0):\n",
    "            data[\"DropoffStart\"].iloc[x] = data[\"ETA\"].iloc[x]-3600\n",
    "            data[\"DropoffEnd\"].iloc[x] = data[\"ReqLate\"].iloc[x]  \n",
    "        \n",
    "        #schtime is in the middle of the pick up window\n",
    "        if data[\"Activity\"].iloc[x] == 0:\n",
    "            data[\"PickupStart\"].iloc[x] = schtime.iloc[x]-(windowsz/2)\n",
    "            data[\"PickupEnd\"].iloc[x] = schtime.iloc[x]+(windowsz/2)\n",
    "\n",
    "    return data"
   ]
  },
  {
   "cell_type": "code",
   "execution_count": 195,
   "metadata": {
    "collapsed": false
   },
   "outputs": [
    {
     "data": {
      "text/plain": [
       "(7340, 30)"
      ]
     },
     "execution_count": 195,
     "metadata": {},
     "output_type": "execute_result"
    }
   ],
   "source": [
    "# SAVE SINGLE DAY'S RIDES WITH TIME WINDOWS\n",
    "data = add_TimeWindows(data, 60*30)\n",
    "data.to_csv(path = \"/Users/fineiskid/Desktop/Access_Analysis_Rproject_local/data/single_day_TimeWindows\", index = False)\n",
    "data.shape"
   ]
  },
  {
   "cell_type": "code",
   "execution_count": 226,
   "metadata": {
    "collapsed": false
   },
   "outputs": [],
   "source": [
    "def get_URIDs(data, broken_Run, resched_init_time):\n",
    "    '''get unscheduled request id's from broken bus,\n",
    "        based on when we're allowed to first start rescheduling.\n",
    "        resched_init_time is in seconds, marks the point in time we can begin considering reinserting new requests.\n",
    "        broken_Run is number of run that breaks\n",
    "        data is today's scheduling data\n",
    "\n",
    "        RETURN: list of URIDs'''\n",
    "    \n",
    "    #all rides that exist past time we're allowed to begin rescheduling\n",
    "    leftover = data[data[\"ETA\"] >= resched_init_time]\n",
    "    leftover = leftover[(leftover[\"Activity\"] != 6) & (leftover[\"Activity\"] != 16) & (leftover[\"Activity\"] != 3)]\n",
    "    \n",
    "    #rides that were scheduled to be on broken bus past resched_init_time\n",
    "    pickmeup = leftover[leftover[\"Run\"]==broken_Run]\n",
    "    clients = pickmeup[\"ClientId\"].unique()\n",
    "    clients = clients[~(np.isnan(clients))]\n",
    "    rmClients = []\n",
    "    \n",
    "    #remove people who would were scheduled to be on bus before resched_init_time\n",
    "    for cli in clients:\n",
    "        onoff = pickmeup[pickmeup[\"ClientId\"]==cli]\n",
    "        if onoff.shape[0] == 1:\n",
    "            rmClients.append(cli)\n",
    "    unsched = pickmeup[~pickmeup[\"ClientId\"].isin(rmClients)]\n",
    "\n",
    "    print(\"There are %s rides left to be scheduled on broken run %s\" % (unsched.shape[0], broken_Run))\n",
    "\n",
    "    class URID:\n",
    "        def __init__(self, BookingId, Run, PickUpCoords, DropOffCoords, PickupStart, PickupEnd, DropoffStart, DropoffEnd, SpaceOn, MobAids):\n",
    "            self.BookingId= BookingId\n",
    "            self.Run = Run\n",
    "            self.PickUpCoords = PickUpCoords\n",
    "            self.DropOffCoords = DropOffCoords\n",
    "            self.PickupStart = PickupStart\n",
    "            self.PickupEnd = PickupEnd\n",
    "            self.DropoffStart = DropoffStart\n",
    "            self.DropoffEnd = DropoffEnd\n",
    "            self.SpaceOn = SpaceOn\n",
    "            self.MobAids = MobAids\n",
    "\n",
    "\n",
    "    diffIDs = unsched.BookingId.unique()\n",
    "    saveme = []\n",
    "\n",
    "    #save separate URID's in a list\n",
    "    for ID in diffIDs:\n",
    "        temp = URID(BookingId = ID,\n",
    "            Run = broken_Run,\n",
    "            PickUpCoords = unsched[unsched[\"BookingId\"]==unsched.BookingId.iloc[0]][[\"LAT\", \"LON\"]].iloc[0,],\n",
    "            DropOffCoords = unsched[unsched[\"BookingId\"]==unsched.BookingId.iloc[0]][[\"LAT\", \"LON\"]].iloc[1,],\n",
    "            PickupStart = unsched[unsched[\"BookingId\"]==unsched.BookingId.iloc[0]][[\"PickupStart\"]],\n",
    "            PickupEnd = unsched[unsched[\"BookingId\"]==unsched.BookingId.iloc[0]][[\"PickupEnd\"]],\n",
    "            DropoffStart = unsched[unsched[\"BookingId\"]==unsched.BookingId.iloc[0]][[\"PickupEnd\"]],\n",
    "            DropoffEnd = unsched[unsched[\"BookingId\"]==unsched.BookingId.iloc[0]][[\"PickupEnd\"]],\n",
    "            SpaceOn = unsched[unsched[\"BookingId\"]==unsched.BookingId.iloc[0]][[\"SpaceOn\"]].iloc[0,],\n",
    "            MobAids = unsched[unsched[\"BookingId\"]==unsched.BookingId.iloc[0]][[\"MobAids\"]].iloc[0,])\n",
    "        saveme.append(temp)\n",
    "\n",
    "    return saveme"
   ]
  },
  {
   "cell_type": "code",
   "execution_count": 227,
   "metadata": {
    "collapsed": false
   },
   "outputs": [
    {
     "name": "stdout",
     "output_type": "stream",
     "text": [
      "There are 10 rides left to be scheduled on broken run 680SEB\n"
     ]
    }
   ],
   "source": [
    "\n",
    "\n",
    "broken_Run = data.Run.unique()[0]\n",
    "resched_init_time = 14*60*60\n",
    "urids = get_URIDs(data, broken_Run, resched_init_time)"
   ]
  },
  {
   "cell_type": "code",
   "execution_count": 223,
   "metadata": {
    "collapsed": false
   },
   "outputs": [],
   "source": [
    "def get_busRuns(data, Run, resched_init_time):\n",
    "    ''' take pd.DataFrame from add_Time_Windows.py and create busRun object for specified Run number,\n",
    "    for all stops occurring at or after resched_init_time.\n",
    "\n",
    "    RETURN: busRun object for specified Run.'''\n",
    "\n",
    "    #subset based on matching Run number, and subset for stops only at or after resched_init_time\n",
    "    print(\"Getting remaing rides for run %s\" % bus_Run)\n",
    "    dataSub = data[(data[\"Run\"] == bus_Run) & (data[\"ETA\"] >= resched_init_time)]\n",
    "    #subset only the rides that aren't 6, 16, or 3:\n",
    "    leave = dataSub.index.min()\n",
    "    gas = dataSub[(dataSub[\"Activity\"]==6)|(dataSub[\"Activity\"]==16)|(dataSub[\"Activity\"]==3)].index.min()\n",
    "    busRun = dataSub.iloc[leave:(gas+1)]\n",
    "\n",
    "    return busRun"
   ]
  },
  {
   "cell_type": "code",
   "execution_count": 262,
   "metadata": {
    "collapsed": false
   },
   "outputs": [
    {
     "name": "stdout",
     "output_type": "stream",
     "text": [
      "Testing get_busRuns on run 181SEB\n"
     ]
    }
   ],
   "source": [
    "#Test get_busRuns subsetting routine\n",
    "bus_Run = data.Run.unique()[2]\n"
   ]
  },
  {
   "cell_type": "code",
   "execution_count": 261,
   "metadata": {
    "collapsed": false
   },
   "outputs": [
    {
     "data": {
      "text/plain": [
       "Int64Index([], dtype='int64')"
      ]
     },
     "execution_count": 261,
     "metadata": {},
     "output_type": "execute_result"
    }
   ],
   "source": [
    "dataSub[dataSub[\"Activity\"]==4].index\n"
   ]
  },
  {
   "cell_type": "code",
   "execution_count": null,
   "metadata": {
    "collapsed": true
   },
   "outputs": [],
   "source": []
  }
 ],
 "metadata": {
  "kernelspec": {
   "display_name": "Python 2",
   "language": "python",
   "name": "python2"
  },
  "language_info": {
   "codemirror_mode": {
    "name": "ipython",
    "version": 2
   },
   "file_extension": ".py",
   "mimetype": "text/x-python",
   "name": "python",
   "nbconvert_exporter": "python",
   "pygments_lexer": "ipython2",
   "version": "2.7.9"
  }
 },
 "nbformat": 4,
 "nbformat_minor": 0
}
